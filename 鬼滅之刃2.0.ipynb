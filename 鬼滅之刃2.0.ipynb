{
 "cells": [
  {
   "cell_type": "code",
   "execution_count": 1,
   "metadata": {},
   "outputs": [],
   "source": [
    "%matplotlib inline\n",
    "import numpy as np\n",
    "import matplotlib.pyplot as plt\n",
    "import pandas as pd\n",
    "import random"
   ]
  },
  {
   "cell_type": "code",
   "execution_count": 7,
   "metadata": {},
   "outputs": [
    {
     "name": "stdout",
     "output_type": "stream",
     "text": [
      "鬼殺隊入隊檢驗\n",
      "輸入你的名子\n",
      ">>洪晨維\n",
      "名前: 洪晨維\n",
      "階級: 辛\n",
      "呼吸: 蛇\n",
      "育手: 不死川實彌\n",
      "親友: 香奈乎\n"
     ]
    }
   ],
   "source": [
    "jgi=\"甲,乙,丙,丁,戊,己,庚,辛,壬,癸\"\n",
    "jgi=jgi.split(\",\")\n",
    "hea=\"日,水,炎,雷,風,毒,月,獸,戀,蛇,花,岩,霞,音\"\n",
    "hea=hea.split(\",\")\n",
    "han=\"時透無一郎,甘露寺蜜璃,富岡義勇,悲鳴嶼行冥,不死川實彌,胡蝶忍,煉獄杏壽郎,宇髄天元,伊黑小芭內,鱗滝左近次\"\n",
    "han=han.split(\",\")\n",
    "fri=\"炭治郎,禰豆子,我妻善逸,伊之助,時透無一郎,甘露寺蜜璃,富岡義勇,悲鳴嶼行冥,不死川實彌,香奈乎,不死川玄彌,胡蝶忍,煉獄杏壽郎,宇髄天元,伊黑小芭內,鱗滝左近次\"\n",
    "fri=fri.split(\",\")\n",
    "a=random.randint(0,9)\n",
    "b=random.randint(0,14)\n",
    "c=random.randint(0,9)\n",
    "d=random.randint(0,15)\n",
    "print(\"鬼殺隊入隊檢驗\")\n",
    "print(\"輸入你的名子\")\n",
    "name=input(\">>\")\n",
    "print(\"名前:\",name)\n",
    "print(\"階級:\",jgi[a])\n",
    "print(\"呼吸:\",hea[b])\n",
    "print(\"育手:\",han[c])\n",
    "print(\"親友:\",fri[d])"
   ]
  },
  {
   "cell_type": "code",
   "execution_count": null,
   "metadata": {},
   "outputs": [],
   "source": []
  }
 ],
 "metadata": {
  "kernelspec": {
   "display_name": "Python 3",
   "language": "python",
   "name": "python3"
  },
  "language_info": {
   "codemirror_mode": {
    "name": "ipython",
    "version": 3
   },
   "file_extension": ".py",
   "mimetype": "text/x-python",
   "name": "python",
   "nbconvert_exporter": "python",
   "pygments_lexer": "ipython3",
   "version": "3.7.3"
  }
 },
 "nbformat": 4,
 "nbformat_minor": 2
}
