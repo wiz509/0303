{
 "cells": [
  {
   "cell_type": "code",
   "execution_count": 1,
   "metadata": {},
   "outputs": [],
   "source": [
    "%matplotlib inline\n",
    "\n",
    "import numpy as np\n",
    "import matplotlib.pyplot as plt\n",
    "import pandas as pd\n"
   ]
  },
  {
   "cell_type": "code",
   "execution_count": 5,
   "metadata": {},
   "outputs": [
    {
     "name": "stdout",
     "output_type": "stream",
     "text": [
      "請輸入帳號:123\n",
      "請輸入密碼:321\n",
      "帳號密碼錯誤，再試一次!\n",
      "請輸入帳號:123\n",
      "請輸入密碼:321\n",
      "帳號密碼錯誤，再試一次!\n",
      "請輸入帳號:benson560\n",
      "請輸入密碼:123321\n",
      "登入成功\n"
     ]
    }
   ],
   "source": [
    "a=0\n",
    "while a <3:\n",
    "    name = input(\"請輸入帳號:\")\n",
    "    password = input(\"請輸入密碼:\")\n",
    "    if name == \"benson560\" and password == \"123321\":\n",
    "        print(\"登入成功\")\n",
    "        break\n",
    "    else:\n",
    "        print(\"帳號密碼錯誤，再試一次!\")\n",
    "        a=a+1\n",
    "if a >=3:\n",
    "    print(\"錯太多次，禁止登入\")"
   ]
  },
  {
   "cell_type": "code",
   "execution_count": null,
   "metadata": {},
   "outputs": [],
   "source": []
  }
 ],
 "metadata": {
  "kernelspec": {
   "display_name": "Python 3",
   "language": "python",
   "name": "python3"
  },
  "language_info": {
   "codemirror_mode": {
    "name": "ipython",
    "version": 3
   },
   "file_extension": ".py",
   "mimetype": "text/x-python",
   "name": "python",
   "nbconvert_exporter": "python",
   "pygments_lexer": "ipython3",
   "version": "3.7.3"
  }
 },
 "nbformat": 4,
 "nbformat_minor": 2
}
