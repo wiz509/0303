{
 "cells": [
  {
   "cell_type": "code",
   "execution_count": 10,
   "metadata": {},
   "outputs": [],
   "source": [
    "%matplotlib inline\n",
    "\n",
    "import numpy as np\n",
    "import matplotlib.pyplot as plt\n",
    "import pandas as pd\n"
   ]
  },
  {
   "cell_type": "code",
   "execution_count": 31,
   "metadata": {},
   "outputs": [
    {
     "name": "stdout",
     "output_type": "stream",
     "text": [
      ">>人數3\n",
      ">>成績25\n",
      ">>成績16\n",
      ">>成績100\n",
      "有: 2人沒及格\n"
     ]
    }
   ],
   "source": [
    "a=input(\">>人數\")\n",
    "n=0\n",
    "g=[]\n",
    "for i in range(0,int(a)):\n",
    "    h=input(\">>成績\")\n",
    "    g.append(h)\n",
    "for i in range(0,int(a)):\n",
    "    if int(g[i]) < 60:\n",
    "        n=n+1\n",
    "print(f\"有: {n}人沒及格\")"
   ]
  },
  {
   "cell_type": "code",
   "execution_count": null,
   "metadata": {},
   "outputs": [],
   "source": []
  }
 ],
 "metadata": {
  "kernelspec": {
   "display_name": "Python 3",
   "language": "python",
   "name": "python3"
  },
  "language_info": {
   "codemirror_mode": {
    "name": "ipython",
    "version": 3
   },
   "file_extension": ".py",
   "mimetype": "text/x-python",
   "name": "python",
   "nbconvert_exporter": "python",
   "pygments_lexer": "ipython3",
   "version": "3.7.3"
  }
 },
 "nbformat": 4,
 "nbformat_minor": 2
}
