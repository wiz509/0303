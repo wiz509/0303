{
  "nbformat": 4,
  "nbformat_minor": 0,
  "metadata": {
    "colab": {
      "name": "Untitled8.ipynb",
      "provenance": []
    },
    "kernelspec": {
      "name": "python3",
      "display_name": "Python 3"
    }
  },
  "cells": [
    {
      "cell_type": "code",
      "metadata": {
        "id": "OSf3gNteBi_7",
        "colab_type": "code",
        "colab": {}
      },
      "source": [
        "import matplotlib.pyplot as plt\n",
        "import numpy as np\n",
        "%matplotlib inline\n",
        "import pandas as pd\n",
        "import sympy as sp\n",
        "import tensorflow as tf\n",
        "from sklearn.model_selection import train_test_split\n",
        "from tensorflow.keras.models import Sequential\n",
        "from tensorflow.keras.layers import Dense,Flatten,Conv2D, MaxPooling2D, GlobalAveragePooling2D\n",
        "from tensorflow.keras.optimizers import Adam,SGD\n",
        "from tensorflow.keras import datasets\n",
        "from tensorflow.keras.utils import to_categorical"
      ],
      "execution_count": 0,
      "outputs": []
    },
    {
      "cell_type": "code",
      "metadata": {
        "id": "lkFsNmomBoKu",
        "colab_type": "code",
        "colab": {}
      },
      "source": [
        "(X_train, Y_train),(x_test, y_test)= datasets.cifar10.load_data()\n",
        "name_list = ['airplane', 'automobile', 'bird', 'cat', 'deer', 'dog', 'frog', 'horse', 'ship', 'truck']"
      ],
      "execution_count": 0,
      "outputs": []
    },
    {
      "cell_type": "markdown",
      "metadata": {
        "id": "f11E2j4LCCKr",
        "colab_type": "text"
      },
      "source": [
        "spilt分割成兩筆訓練資料，用作遷移學習"
      ]
    },
    {
      "cell_type": "code",
      "metadata": {
        "id": "Cwq_nYUmBu7B",
        "colab_type": "code",
        "colab": {}
      },
      "source": [
        "x_train, x, y_train, y = train_test_split(X_train, Y_train, test_size = 0.2, random_state=40)"
      ],
      "execution_count": 0,
      "outputs": []
    },
    {
      "cell_type": "code",
      "metadata": {
        "id": "vFEu2c29Cyoq",
        "colab_type": "code",
        "colab": {
          "base_uri": "https://localhost:8080/",
          "height": 264
        },
        "outputId": "0f4e9c45-8b2a-482e-9ca5-75f997d5acd4"
      },
      "source": [
        "idx = np.random.randint(X_train.shape[0])\n",
        "x_sample = X_train[idx]\n",
        "y_sample = Y_train[idx].squeeze()\n",
        "\n",
        "plt.imshow(x_sample)\n",
        "plt.title(name_list[y_sample])\n",
        "plt.axis('off');"
      ],
      "execution_count": 14,
      "outputs": [
        {
          "output_type": "display_data",
          "data": {
            "image/png": "[encoded data removed]",
            "text/plain": [
              "<Figure size 432x288 with 1 Axes>"
            ]
          },
          "metadata": {
            "tags": [],
            "needs_background": "light"
          }
        }
      ]
    },
    {
      "cell_type": "code",
      "metadata": {
        "id": "2b81ZMYXELGG",
        "colab_type": "code",
        "colab": {
          "base_uri": "https://localhost:8080/",
          "height": 85
        },
        "outputId": "af5fced2-663a-4a9b-eacb-545f1ab9db13"
      },
      "source": [
        "print(\"x_train:\", X_train.shape)\n",
        "print(\"x_test:\", x_test.shape)\n",
        "print(\"y_train:\", Y_train.shape)\n",
        "print(\"y_test:\", y_test.shape)"
      ],
      "execution_count": 19,
      "outputs": [
        {
          "output_type": "stream",
          "text": [
            "x_train: (50000, 32, 32, 3)\n",
            "x_test: (10000, 32, 32, 3)\n",
            "y_train: (50000, 1)\n",
            "y_test: (10000, 1)\n"
          ],
          "name": "stdout"
        }
      ]
    },
    {
      "cell_type": "code",
      "metadata": {
        "id": "9h9lsrCHDII4",
        "colab_type": "code",
        "colab": {}
      },
      "source": [
        "#建立模型\n",
        "cnn_layers = [Conv2D(32,(3,3), padding='same', input_shape=(32,32,3), activation='relu'),\n",
        "             MaxPooling2D(),\n",
        "             Conv2D(64,(3,3), padding='same', activation='relu'),\n",
        "             MaxPooling2D(),\n",
        "             Conv2D(128, (3,3), padding='same', activation='relu'),\n",
        "             MaxPooling2D(),\n",
        "             Conv2D(256, (3,3), padding='same', activation='relu'),\n",
        "             MaxPooling2D(),\n",
        "             Flatten()]"
      ],
      "execution_count": 0,
      "outputs": []
    },
    {
      "cell_type": "code",
      "metadata": {
        "id": "0l03MwthFXAp",
        "colab_type": "code",
        "colab": {}
      },
      "source": [
        "FC_layers = [Dense(60,activation='relu'),\n",
        "            Dense(20,activation='softmax')]"
      ],
      "execution_count": 0,
      "outputs": []
    },
    {
      "cell_type": "code",
      "metadata": {
        "id": "Kaz6skNlGKl6",
        "colab_type": "code",
        "colab": {
          "base_uri": "https://localhost:8080/",
          "height": 527
        },
        "outputId": "a35bd73f-5669-462c-dd29-c96534a05d87"
      },
      "source": [
        "model = Sequential(cnn_layers+FC_layers)\n",
        "model.summary()"
      ],
      "execution_count": 27,
      "outputs": [
        {
          "output_type": "stream",
          "text": [
            "Model: \"sequential\"\n",
            "_________________________________________________________________\n",
            "Layer (type)                 Output Shape              Param #   \n",
            "=================================================================\n",
            "conv2d_4 (Conv2D)            (None, 32, 32, 32)        896       \n",
            "_________________________________________________________________\n",
            "max_pooling2d (MaxPooling2D) (None, 16, 16, 32)        0         \n",
            "_________________________________________________________________\n",
            "conv2d_5 (Conv2D)            (None, 16, 16, 64)        18496     \n",
            "_________________________________________________________________\n",
            "max_pooling2d_1 (MaxPooling2 (None, 8, 8, 64)          0         \n",
            "_________________________________________________________________\n",
            "conv2d_6 (Conv2D)            (None, 8, 8, 128)         73856     \n",
            "_________________________________________________________________\n",
            "max_pooling2d_2 (MaxPooling2 (None, 4, 4, 128)         0         \n",
            "_________________________________________________________________\n",
            "conv2d_7 (Conv2D)            (None, 4, 4, 256)         295168    \n",
            "_________________________________________________________________\n",
            "max_pooling2d_3 (MaxPooling2 (None, 2, 2, 256)         0         \n",
            "_________________________________________________________________\n",
            "flatten (Flatten)            (None, 1024)              0         \n",
            "_________________________________________________________________\n",
            "dense_2 (Dense)              (None, 54)                55350     \n",
            "_________________________________________________________________\n",
            "dense_3 (Dense)              (None, 10)                550       \n",
            "=================================================================\n",
            "Total params: 444,316\n",
            "Trainable params: 444,316\n",
            "Non-trainable params: 0\n",
            "_________________________________________________________________\n"
          ],
          "name": "stdout"
        }
      ]
    },
    {
      "cell_type": "code",
      "metadata": {
        "id": "iRpA22YAGZmL",
        "colab_type": "code",
        "colab": {
          "base_uri": "https://localhost:8080/",
          "height": 136
        },
        "outputId": "653aecab-73db-4dd6-c298-04b5a6e7e0b1"
      },
      "source": [
        "model.compile(loss=\"binary_crossentropy\", optimizer=SGD(lr=0.087),metrics=[\"accuracy\"])\n",
        "model.fit(x_train, y_train, batch_size=256, epochs=3)"
      ],
      "execution_count": 28,
      "outputs": [
        {
          "output_type": "stream",
          "text": [
            "Epoch 1/3\n",
            "157/157 [==============================] - 114s 723ms/step - loss: 10.0152 - accuracy: 0.1146\n",
            "Epoch 2/3\n",
            "157/157 [==============================] - 116s 738ms/step - loss: 10.0150 - accuracy: 0.1059\n",
            "Epoch 3/3\n",
            "157/157 [==============================] - 114s 729ms/step - loss: 10.0150 - accuracy: 0.1003\n"
          ],
          "name": "stdout"
        },
        {
          "output_type": "execute_result",
          "data": {
            "text/plain": [
              "<tensorflow.python.keras.callbacks.History at 0x7fb2eaae8390>"
            ]
          },
          "metadata": {
            "tags": []
          },
          "execution_count": 28
        }
      ]
    },
    {
      "cell_type": "code",
      "metadata": {
        "id": "-1AlwyhUGrWV",
        "colab_type": "code",
        "colab": {}
      },
      "source": [
        "#定義新的 FC_layers \n",
        "FC_layers2 = [Dense(60,activation='sigmoid'),  \n",
        "              Dense(30,activation='relu'),\n",
        "              Dense(20,activation='softmax')]"
      ],
      "execution_count": 0,
      "outputs": []
    },
    {
      "cell_type": "code",
      "metadata": {
        "id": "dWjF2tH0G4lI",
        "colab_type": "code",
        "colab": {
          "base_uri": "https://localhost:8080/",
          "height": 680
        },
        "outputId": "1ba5ca04-53bf-4343-ada1-9c20a2389f1c"
      },
      "source": [
        "#舊的 cnn_layer 配到新的 FC_layers\n",
        "model2 = Sequential(cnn_layers+FC_layers2) \n",
        "model2.summary()\n",
        "model2.compile(loss='binary_crossentropy', optimizer='adam', metrics=['accuracy'])\n",
        "model2.fit(x, y, batch_size=256, epochs=3, validation_data=(x_test, y_test))"
      ],
      "execution_count": 30,
      "outputs": [
        {
          "output_type": "stream",
          "text": [
            "Model: \"sequential_1\"\n",
            "_________________________________________________________________\n",
            "Layer (type)                 Output Shape              Param #   \n",
            "=================================================================\n",
            "conv2d_4 (Conv2D)            (None, 32, 32, 32)        896       \n",
            "_________________________________________________________________\n",
            "max_pooling2d (MaxPooling2D) (None, 16, 16, 32)        0         \n",
            "_________________________________________________________________\n",
            "conv2d_5 (Conv2D)            (None, 16, 16, 64)        18496     \n",
            "_________________________________________________________________\n",
            "max_pooling2d_1 (MaxPooling2 (None, 8, 8, 64)          0         \n",
            "_________________________________________________________________\n",
            "conv2d_6 (Conv2D)            (None, 8, 8, 128)         73856     \n",
            "_________________________________________________________________\n",
            "max_pooling2d_2 (MaxPooling2 (None, 4, 4, 128)         0         \n",
            "_________________________________________________________________\n",
            "conv2d_7 (Conv2D)            (None, 4, 4, 256)         295168    \n",
            "_________________________________________________________________\n",
            "max_pooling2d_3 (MaxPooling2 (None, 2, 2, 256)         0         \n",
            "_________________________________________________________________\n",
            "flatten (Flatten)            (None, 1024)              0         \n",
            "_________________________________________________________________\n",
            "dense_4 (Dense)              (None, 60)                61500     \n",
            "_________________________________________________________________\n",
            "dense_5 (Dense)              (None, 30)                1830      \n",
            "_________________________________________________________________\n",
            "dense_6 (Dense)              (None, 20)                620       \n",
            "=================================================================\n",
            "Total params: 452,366\n",
            "Trainable params: 452,366\n",
            "Non-trainable params: 0\n",
            "_________________________________________________________________\n",
            "Epoch 1/3\n",
            "40/40 [==============================] - 34s 857ms/step - loss: 13.2053 - accuracy: 0.0134 - val_loss: 13.3014 - val_accuracy: 0.0000e+00\n",
            "Epoch 2/3\n",
            "40/40 [==============================] - 34s 851ms/step - loss: 13.1830 - accuracy: 0.0000e+00 - val_loss: 13.3013 - val_accuracy: 3.0000e-04\n",
            "Epoch 3/3\n",
            "40/40 [==============================] - 38s 961ms/step - loss: 13.1829 - accuracy: 1.0000e-04 - val_loss: 13.3013 - val_accuracy: 4.0000e-04\n"
          ],
          "name": "stdout"
        },
        {
          "output_type": "execute_result",
          "data": {
            "text/plain": [
              "<tensorflow.python.keras.callbacks.History at 0x7fb2e22ea4e0>"
            ]
          },
          "metadata": {
            "tags": []
          },
          "execution_count": 30
        }
      ]
    },
    {
      "cell_type": "code",
      "metadata": {
        "id": "-xSGTJvnG4yw",
        "colab_type": "code",
        "colab": {}
      },
      "source": [
        ""
      ],
      "execution_count": 0,
      "outputs": []
    }
  ]
}