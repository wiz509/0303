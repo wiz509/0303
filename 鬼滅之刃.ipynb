{
 "cells": [
  {
   "cell_type": "code",
   "execution_count": 20,
   "metadata": {},
   "outputs": [],
   "source": [
    "%matplotlib inline\n",
    "import numpy as np\n",
    "import matplotlib.pyplot as plt\n",
    "import pandas as pd\n",
    "import random"
   ]
  },
  {
   "cell_type": "code",
   "execution_count": 31,
   "metadata": {},
   "outputs": [
    {
     "name": "stdout",
     "output_type": "stream",
     "text": [
      "如果你在鬼滅之刃裡會是誰?\n",
      "輸入你的姓名洪晨維\n",
      "伊黑小芭內\n"
     ]
    }
   ],
   "source": [
    "name=\"炭治郎,禰豆子,我妻善逸,伊之助,時透無一郎,甘露寺蜜璃,富岡義勇,悲鳴嶼行冥,不死川實彌,香奈乎,不死川玄彌,胡蝶忍,煉獄杏壽郎,宇髄天元,伊黑小芭內\"\n",
    "name=name.split(\",\",14)\n",
    "print(\"如果你在鬼滅之刃裡會是誰?\")\n",
    "input('輸入你的姓名:')\n",
    "ham=random.randint(0,14)\n",
    "print(name[ham])"
   ]
  },
  {
   "cell_type": "code",
   "execution_count": null,
   "metadata": {},
   "outputs": [],
   "source": []
  }
 ],
 "metadata": {
  "kernelspec": {
   "display_name": "Python 3",
   "language": "python",
   "name": "python3"
  },
  "language_info": {
   "codemirror_mode": {
    "name": "ipython",
    "version": 3
   },
   "file_extension": ".py",
   "mimetype": "text/x-python",
   "name": "python",
   "nbconvert_exporter": "python",
   "pygments_lexer": "ipython3",
   "version": "3.7.3"
  }
 },
 "nbformat": 4,
 "nbformat_minor": 2
}
